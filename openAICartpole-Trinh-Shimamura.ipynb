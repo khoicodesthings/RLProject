{
 "cells": [
  {
   "cell_type": "code",
   "execution_count": 1,
   "id": "35ef9c90",
   "metadata": {},
   "outputs": [],
   "source": [
    "import gym \n",
    "import random"
   ]
  },
  {
   "cell_type": "code",
   "execution_count": 2,
   "id": "6385173c",
   "metadata": {},
   "outputs": [],
   "source": [
    "env = gym.make('CartPole-v1', render_mode=\"human\")\n",
    "states = env.observation_space.shape[0]\n",
    "actions = env.action_space.n"
   ]
  },
  {
   "cell_type": "code",
   "execution_count": 3,
   "id": "6c4a4631",
   "metadata": {},
   "outputs": [
    {
     "name": "stdout",
     "output_type": "stream",
     "text": [
      "Episode:1 Score:15.0\n",
      "Episode:2 Score:35.0\n",
      "Episode:3 Score:13.0\n",
      "Episode:4 Score:19.0\n",
      "Episode:5 Score:30.0\n",
      "Episode:6 Score:21.0\n",
      "Episode:7 Score:12.0\n",
      "Episode:8 Score:16.0\n",
      "Episode:9 Score:13.0\n",
      "Episode:10 Score:26.0\n",
      "Episode:11 Score:15.0\n",
      "Episode:12 Score:18.0\n",
      "Episode:13 Score:30.0\n",
      "Episode:14 Score:17.0\n",
      "Episode:15 Score:14.0\n",
      "Episode:16 Score:20.0\n",
      "Episode:17 Score:44.0\n",
      "Episode:18 Score:38.0\n",
      "Episode:19 Score:22.0\n",
      "Episode:20 Score:83.0\n",
      "Episode:21 Score:41.0\n",
      "Episode:22 Score:16.0\n",
      "Episode:23 Score:17.0\n",
      "Episode:24 Score:16.0\n",
      "Episode:25 Score:27.0\n",
      "Episode:26 Score:15.0\n",
      "Episode:27 Score:28.0\n",
      "Episode:28 Score:15.0\n",
      "Episode:29 Score:25.0\n",
      "Episode:30 Score:49.0\n",
      "Episode:31 Score:28.0\n",
      "Episode:32 Score:15.0\n",
      "Episode:33 Score:45.0\n",
      "Episode:34 Score:14.0\n",
      "Episode:35 Score:42.0\n",
      "Episode:36 Score:21.0\n",
      "Episode:37 Score:15.0\n",
      "Episode:38 Score:13.0\n",
      "Episode:39 Score:21.0\n",
      "Episode:40 Score:39.0\n",
      "Episode:41 Score:56.0\n",
      "Episode:42 Score:33.0\n",
      "Episode:43 Score:72.0\n",
      "Episode:44 Score:21.0\n",
      "Episode:45 Score:17.0\n",
      "Episode:46 Score:14.0\n",
      "Episode:47 Score:20.0\n",
      "Episode:48 Score:14.0\n",
      "Episode:49 Score:21.0\n",
      "Episode:50 Score:23.0\n"
     ]
    }
   ],
   "source": [
    "episodes = 50\n",
    "for episode in range(1, episodes+1):\n",
    "    # reset the env\n",
    "    state = env.reset()\n",
    "    # flag to check if the game is done\n",
    "    done = False\n",
    "    # initial score\n",
    "    score = 0 \n",
    "    \n",
    "    # game loop\n",
    "    while not done:\n",
    "        # render the game\n",
    "        env.render()\n",
    "        # random action\n",
    "        action = env.action_space.sample()\n",
    "        # update state, reward, done flag\n",
    "        observation, reward, done, info,extra  = env.step(action)\n",
    "        # update score\n",
    "        score+=reward\n",
    "    print('Episode:{} | Score:{}'.format(episode, score))\n",
    "    \n",
    "env.close()"
   ]
  }
 ],
 "metadata": {
  "kernelspec": {
   "display_name": "Python 3 (ipykernel)",
   "language": "python",
   "name": "python3"
  },
  "language_info": {
   "codemirror_mode": {
    "name": "ipython",
    "version": 3
   },
   "file_extension": ".py",
   "mimetype": "text/x-python",
   "name": "python",
   "nbconvert_exporter": "python",
   "pygments_lexer": "ipython3",
   "version": "3.10.2"
  }
 },
 "nbformat": 4,
 "nbformat_minor": 5
}
