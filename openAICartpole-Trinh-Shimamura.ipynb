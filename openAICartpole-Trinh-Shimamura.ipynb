{
 "cells": [
  {
   "cell_type": "code",
   "execution_count": 1,
   "id": "35ef9c90",
   "metadata": {},
   "outputs": [],
   "source": [
    "import gym \n",
    "import numpy as np"
   ]
  },
  {
   "cell_type": "code",
   "execution_count": 2,
   "id": "6385173c",
   "metadata": {},
   "outputs": [],
   "source": [
    "env = gym.make('CartPole-v1', render_mode=\"human\")\n",
    "states = env.observation_space.shape[0]\n",
    "actions = env.action_space.n"
   ]
  },
  {
   "cell_type": "code",
   "execution_count": 3,
   "id": "6c4a4631",
   "metadata": {},
   "outputs": [
    {
     "name": "stdout",
     "output_type": "stream",
     "text": [
      "Episode:1 | Score:9.0\n",
      "Episode:2 | Score:25.0\n",
      "Episode:3 | Score:23.0\n",
      "Episode:4 | Score:21.0\n",
      "Episode:5 | Score:23.0\n",
      "Episode:6 | Score:47.0\n",
      "Episode:7 | Score:12.0\n",
      "Episode:8 | Score:19.0\n",
      "Episode:9 | Score:10.0\n",
      "Episode:10 | Score:29.0\n"
     ]
    }
   ],
   "source": [
    "episodes = 10\n",
    "for episode in range(1, episodes+1):\n",
    "    # reset the env\n",
    "    state = env.reset()\n",
    "    # flag to check if the game is done\n",
    "    done = False\n",
    "    # initial score\n",
    "    score = 0 \n",
    "    \n",
    "    # game loop\n",
    "    while not done:\n",
    "        # render the game\n",
    "        env.render()\n",
    "        # random action\n",
    "        action = env.action_space.sample()\n",
    "        # update state, reward, done flag\n",
    "        observation, reward, done, info,extra  = env.step(action)\n",
    "        # update score\n",
    "        score+=reward\n",
    "    print('Episode:{} | Score:{}'.format(episode, score))\n",
    "    \n",
    "env.close()"
   ]
  }
 ],
 "metadata": {
  "kernelspec": {
   "display_name": "Python 3",
   "language": "python",
   "name": "python3"
  },
  "language_info": {
   "codemirror_mode": {
    "name": "ipython",
    "version": 3
   },
   "file_extension": ".py",
   "mimetype": "text/x-python",
   "name": "python",
   "nbconvert_exporter": "python",
   "pygments_lexer": "ipython3",
   "version": "3.10.2"
  },
  "vscode": {
   "interpreter": {
    "hash": "26de051ba29f2982a8de78e945f0abaf191376122a1563185a90213a26c5da77"
   }
  }
 },
 "nbformat": 4,
 "nbformat_minor": 5
}
