{
 "cells": [
  {
   "cell_type": "code",
   "execution_count": 1,
   "id": "2742fcba",
   "metadata": {},
   "outputs": [],
   "source": [
    "import gym\n",
    "import numpy as np"
   ]
  },
  {
   "cell_type": "code",
   "execution_count": 2,
   "id": "1dc32c32",
   "metadata": {},
   "outputs": [],
   "source": [
    "# Initialize the environment\n",
    "env = gym.make('CartPole-v1')\n",
    "\n",
    "# Define the hyperparameters\n",
    "alpha = 0.1  # learning rate\n",
    "gamma = 0.99  # discount factor\n",
    "epsilon = 0.1  # exploration rate\n",
    "n_episodes = 5000"
   ]
  },
  {
   "cell_type": "code",
   "execution_count": 3,
   "id": "b0284e4c",
   "metadata": {},
   "outputs": [],
   "source": [
    "# Initialize the Q table\n",
    "n_states = env.observation_space.shape[0]\n",
    "n_actions = env.action_space.n\n",
    "Q = np.zeros((n_states, n_actions))\n"
   ]
  },
  {
   "cell_type": "code",
   "execution_count": 4,
   "id": "85f69b5a",
   "metadata": {},
   "outputs": [],
   "source": [
    "# Define the epsilon-greedy policy\n",
    "def epsilon_greedy_policy(state):\n",
    "    if np.random.uniform() < epsilon:\n",
    "        return env.action_space.sample()  # exploration\n",
    "    else:\n",
    "        return np.argmax(Q[state, :])  # exploitation\n"
   ]
  },
  {
   "cell_type": "code",
   "execution_count": 5,
   "id": "86f33c12",
   "metadata": {},
   "outputs": [
    {
     "name": "stderr",
     "output_type": "stream",
     "text": [
      "C:\\Users\\Khoi Trinh\\AppData\\Local\\Temp\\ipykernel_9772\\4145167083.py:6: VisibleDeprecationWarning: Creating an ndarray from ragged nested sequences (which is a list-or-tuple of lists-or-tuples-or ndarrays with different lengths or shapes) is deprecated. If you meant to do this, you must specify 'dtype=object' when creating the ndarray.\n",
      "  return np.argmax(Q[state, :])  # exploitation\n"
     ]
    },
    {
     "ename": "IndexError",
     "evalue": "only integers, slices (`:`), ellipsis (`...`), numpy.newaxis (`None`) and integer or boolean arrays are valid indices",
     "output_type": "error",
     "traceback": [
      "\u001b[1;31m---------------------------------------------------------------------------\u001b[0m",
      "\u001b[1;31mIndexError\u001b[0m                                Traceback (most recent call last)",
      "Cell \u001b[1;32mIn[5], line 4\u001b[0m\n\u001b[0;32m      2\u001b[0m \u001b[38;5;28;01mfor\u001b[39;00m episode \u001b[38;5;129;01min\u001b[39;00m \u001b[38;5;28mrange\u001b[39m(n_episodes):\n\u001b[0;32m      3\u001b[0m     state \u001b[38;5;241m=\u001b[39m env\u001b[38;5;241m.\u001b[39mreset()\n\u001b[1;32m----> 4\u001b[0m     action \u001b[38;5;241m=\u001b[39m \u001b[43mepsilon_greedy_policy\u001b[49m\u001b[43m(\u001b[49m\u001b[43mstate\u001b[49m\u001b[43m)\u001b[49m\n\u001b[0;32m      5\u001b[0m     done \u001b[38;5;241m=\u001b[39m \u001b[38;5;28;01mFalse\u001b[39;00m\n\u001b[0;32m      6\u001b[0m     \u001b[38;5;28;01mwhile\u001b[39;00m \u001b[38;5;129;01mnot\u001b[39;00m done:\n\u001b[0;32m      7\u001b[0m         \u001b[38;5;66;03m# Take the action and observe the next state and reward\u001b[39;00m\n",
      "Cell \u001b[1;32mIn[4], line 6\u001b[0m, in \u001b[0;36mepsilon_greedy_policy\u001b[1;34m(state)\u001b[0m\n\u001b[0;32m      4\u001b[0m     \u001b[38;5;28;01mreturn\u001b[39;00m env\u001b[38;5;241m.\u001b[39maction_space\u001b[38;5;241m.\u001b[39msample()  \u001b[38;5;66;03m# exploration\u001b[39;00m\n\u001b[0;32m      5\u001b[0m \u001b[38;5;28;01melse\u001b[39;00m:\n\u001b[1;32m----> 6\u001b[0m     \u001b[38;5;28;01mreturn\u001b[39;00m np\u001b[38;5;241m.\u001b[39margmax(\u001b[43mQ\u001b[49m\u001b[43m[\u001b[49m\u001b[43mstate\u001b[49m\u001b[43m,\u001b[49m\u001b[43m \u001b[49m\u001b[43m:\u001b[49m\u001b[43m]\u001b[49m)\n",
      "\u001b[1;31mIndexError\u001b[0m: only integers, slices (`:`), ellipsis (`...`), numpy.newaxis (`None`) and integer or boolean arrays are valid indices"
     ]
    }
   ],
   "source": [
    "# Loop over episodes\n",
    "for episode in range(n_episodes):\n",
    "    state = env.reset()\n",
    "    action = epsilon_greedy_policy(state)\n",
    "    done = False\n",
    "    while not done:\n",
    "        # Take the action and observe the next state and reward\n",
    "        next_state, reward, done, info = env.step(action)\n",
    "\n",
    "        # Choose the next action using the epsilon-greedy policy\n",
    "        next_action = epsilon_greedy_policy(next_state)\n",
    "\n",
    "        # Update the Q value of the current state and action using SARSA update rule\n",
    "        td_target = reward + gamma * Q[next_state, next_action]\n",
    "        td_error = td_target - Q[state, action]\n",
    "        Q[state, action] += alpha * td_error\n",
    "\n",
    "        # Update the current state and action\n",
    "        state = next_state\n",
    "        action = next_action\n",
    "\n",
    "    # Decrease the exploration rate over time\n",
    "    if epsilon > 0.01:\n",
    "        epsilon -= 0.0001\n",
    "\n",
    "    # Print the episode number and total reward\n",
    "    print(f\"Episode: {episode + 1}, Total Reward: {info['total_reward']}\")\n",
    "\n",
    "# Play the game with the learned policy\n",
    "state = env.reset()\n",
    "done = False\n",
    "while not done:\n",
    "    action = np.argmax(Q[state, :])\n",
    "    state, reward, done, info = env.step(action)\n",
    "    env.render()\n",
    "\n",
    "env.close()"
   ]
  },
  {
   "cell_type": "code",
   "execution_count": null,
   "id": "dbc0a189",
   "metadata": {},
   "outputs": [],
   "source": []
  }
 ],
 "metadata": {
  "kernelspec": {
   "display_name": "Python 3 (ipykernel)",
   "language": "python",
   "name": "python3"
  },
  "language_info": {
   "codemirror_mode": {
    "name": "ipython",
    "version": 3
   },
   "file_extension": ".py",
   "mimetype": "text/x-python",
   "name": "python",
   "nbconvert_exporter": "python",
   "pygments_lexer": "ipython3",
   "version": "3.10.2"
  }
 },
 "nbformat": 4,
 "nbformat_minor": 5
}
